{
 "cells": [
  {
   "cell_type": "code",
   "execution_count": 2,
   "id": "178968b2",
   "metadata": {
    "_cell_guid": "b1076dfc-b9ad-4769-8c92-a6c4dae69d19",
    "_uuid": "8f2839f25d086af736a60e9eeb907d3b93b6e0e5",
    "execution": {
     "iopub.execute_input": "2023-01-24T05:00:07.692756Z",
     "iopub.status.busy": "2023-01-24T05:00:07.691751Z",
     "iopub.status.idle": "2023-01-24T05:00:08.891110Z",
     "shell.execute_reply": "2023-01-24T05:00:08.889900Z"
    },
    "papermill": {
     "duration": 1.216707,
     "end_time": "2023-01-24T05:00:08.894207",
     "exception": false,
     "start_time": "2023-01-24T05:00:07.677500",
     "status": "completed"
    },
    "tags": []
   },
   "outputs": [],
   "source": [
    "import numpy as np \n",
    "import pandas as pd \n",
    "\n",
    "import os\n",
    "# for dirname, _, filenames in os.walk('./'):\n",
    "#     for filename in filenames:\n",
    "#         print(os.path.join(dirname, filename))\n",
    "        \n",
    "import seaborn as sns\n",
    "import matplotlib.pyplot as plt\n",
    "%matplotlib inline\n",
    "\n",
    "import warnings\n",
    "warnings.filterwarnings(\"ignore\")"
   ]
  },
  {
   "cell_type": "markdown",
   "id": "45441e3c",
   "metadata": {
    "papermill": {
     "duration": 0.010919,
     "end_time": "2023-01-24T05:00:08.916622",
     "exception": false,
     "start_time": "2023-01-24T05:00:08.905703",
     "status": "completed"
    },
    "tags": []
   },
   "source": [
    "# call data"
   ]
  },
  {
   "cell_type": "code",
   "execution_count": 3,
   "id": "ce46fd6b",
   "metadata": {
    "execution": {
     "iopub.execute_input": "2023-01-24T05:00:08.940905Z",
     "iopub.status.busy": "2023-01-24T05:00:08.940387Z",
     "iopub.status.idle": "2023-01-24T05:00:09.019005Z",
     "shell.execute_reply": "2023-01-24T05:00:09.018196Z"
    },
    "papermill": {
     "duration": 0.093478,
     "end_time": "2023-01-24T05:00:09.020988",
     "exception": false,
     "start_time": "2023-01-24T05:00:08.927510",
     "status": "completed"
    },
    "tags": []
   },
   "outputs": [
    {
     "data": {
      "text/html": [
       "<div>\n",
       "<style scoped>\n",
       "    .dataframe tbody tr th:only-of-type {\n",
       "        vertical-align: middle;\n",
       "    }\n",
       "\n",
       "    .dataframe tbody tr th {\n",
       "        vertical-align: top;\n",
       "    }\n",
       "\n",
       "    .dataframe thead th {\n",
       "        text-align: right;\n",
       "    }\n",
       "</style>\n",
       "<table border=\"1\" class=\"dataframe\">\n",
       "  <thead>\n",
       "    <tr style=\"text-align: right;\">\n",
       "      <th></th>\n",
       "      <th>Cycle_Index</th>\n",
       "      <th>Discharge Time (s)</th>\n",
       "      <th>Decrement 3.6-3.4V (s)</th>\n",
       "      <th>Max. Voltage Dischar. (V)</th>\n",
       "      <th>Min. Voltage Charg. (V)</th>\n",
       "      <th>Time at 4.15V (s)</th>\n",
       "      <th>Time constant current (s)</th>\n",
       "      <th>Charging time (s)</th>\n",
       "      <th>RUL</th>\n",
       "    </tr>\n",
       "  </thead>\n",
       "  <tbody>\n",
       "    <tr>\n",
       "      <th>0</th>\n",
       "      <td>1.0</td>\n",
       "      <td>2595.30</td>\n",
       "      <td>1151.488500</td>\n",
       "      <td>3.670</td>\n",
       "      <td>3.211</td>\n",
       "      <td>5460.001</td>\n",
       "      <td>6755.01</td>\n",
       "      <td>10777.82</td>\n",
       "      <td>1112</td>\n",
       "    </tr>\n",
       "    <tr>\n",
       "      <th>1</th>\n",
       "      <td>2.0</td>\n",
       "      <td>7408.64</td>\n",
       "      <td>1172.512500</td>\n",
       "      <td>4.246</td>\n",
       "      <td>3.220</td>\n",
       "      <td>5508.992</td>\n",
       "      <td>6762.02</td>\n",
       "      <td>10500.35</td>\n",
       "      <td>1111</td>\n",
       "    </tr>\n",
       "    <tr>\n",
       "      <th>2</th>\n",
       "      <td>3.0</td>\n",
       "      <td>7393.76</td>\n",
       "      <td>1112.992000</td>\n",
       "      <td>4.249</td>\n",
       "      <td>3.224</td>\n",
       "      <td>5508.993</td>\n",
       "      <td>6762.02</td>\n",
       "      <td>10420.38</td>\n",
       "      <td>1110</td>\n",
       "    </tr>\n",
       "    <tr>\n",
       "      <th>3</th>\n",
       "      <td>4.0</td>\n",
       "      <td>7385.50</td>\n",
       "      <td>1080.320667</td>\n",
       "      <td>4.250</td>\n",
       "      <td>3.225</td>\n",
       "      <td>5502.016</td>\n",
       "      <td>6762.02</td>\n",
       "      <td>10322.81</td>\n",
       "      <td>1109</td>\n",
       "    </tr>\n",
       "    <tr>\n",
       "      <th>4</th>\n",
       "      <td>6.0</td>\n",
       "      <td>65022.75</td>\n",
       "      <td>29813.487000</td>\n",
       "      <td>4.290</td>\n",
       "      <td>3.398</td>\n",
       "      <td>5480.992</td>\n",
       "      <td>53213.54</td>\n",
       "      <td>56699.65</td>\n",
       "      <td>1107</td>\n",
       "    </tr>\n",
       "    <tr>\n",
       "      <th>...</th>\n",
       "      <td>...</td>\n",
       "      <td>...</td>\n",
       "      <td>...</td>\n",
       "      <td>...</td>\n",
       "      <td>...</td>\n",
       "      <td>...</td>\n",
       "      <td>...</td>\n",
       "      <td>...</td>\n",
       "      <td>...</td>\n",
       "    </tr>\n",
       "    <tr>\n",
       "      <th>15059</th>\n",
       "      <td>1108.0</td>\n",
       "      <td>770.44</td>\n",
       "      <td>179.523810</td>\n",
       "      <td>3.773</td>\n",
       "      <td>3.742</td>\n",
       "      <td>922.775</td>\n",
       "      <td>1412.38</td>\n",
       "      <td>6678.88</td>\n",
       "      <td>4</td>\n",
       "    </tr>\n",
       "    <tr>\n",
       "      <th>15060</th>\n",
       "      <td>1109.0</td>\n",
       "      <td>771.12</td>\n",
       "      <td>179.523810</td>\n",
       "      <td>3.773</td>\n",
       "      <td>3.744</td>\n",
       "      <td>915.512</td>\n",
       "      <td>1412.31</td>\n",
       "      <td>6670.38</td>\n",
       "      <td>3</td>\n",
       "    </tr>\n",
       "    <tr>\n",
       "      <th>15061</th>\n",
       "      <td>1110.0</td>\n",
       "      <td>769.12</td>\n",
       "      <td>179.357143</td>\n",
       "      <td>3.773</td>\n",
       "      <td>3.742</td>\n",
       "      <td>915.513</td>\n",
       "      <td>1412.31</td>\n",
       "      <td>6637.12</td>\n",
       "      <td>2</td>\n",
       "    </tr>\n",
       "    <tr>\n",
       "      <th>15062</th>\n",
       "      <td>1111.0</td>\n",
       "      <td>773.88</td>\n",
       "      <td>162.374667</td>\n",
       "      <td>3.763</td>\n",
       "      <td>3.839</td>\n",
       "      <td>539.375</td>\n",
       "      <td>1148.00</td>\n",
       "      <td>7660.62</td>\n",
       "      <td>1</td>\n",
       "    </tr>\n",
       "    <tr>\n",
       "      <th>15063</th>\n",
       "      <td>1112.0</td>\n",
       "      <td>677537.27</td>\n",
       "      <td>142740.640000</td>\n",
       "      <td>4.206</td>\n",
       "      <td>3.305</td>\n",
       "      <td>49680.004</td>\n",
       "      <td>599830.14</td>\n",
       "      <td>599830.14</td>\n",
       "      <td>0</td>\n",
       "    </tr>\n",
       "  </tbody>\n",
       "</table>\n",
       "<p>15064 rows × 9 columns</p>\n",
       "</div>"
      ],
      "text/plain": [
       "       Cycle_Index  Discharge Time (s)  Decrement 3.6-3.4V (s)  \\\n",
       "0              1.0             2595.30             1151.488500   \n",
       "1              2.0             7408.64             1172.512500   \n",
       "2              3.0             7393.76             1112.992000   \n",
       "3              4.0             7385.50             1080.320667   \n",
       "4              6.0            65022.75            29813.487000   \n",
       "...            ...                 ...                     ...   \n",
       "15059       1108.0              770.44              179.523810   \n",
       "15060       1109.0              771.12              179.523810   \n",
       "15061       1110.0              769.12              179.357143   \n",
       "15062       1111.0              773.88              162.374667   \n",
       "15063       1112.0           677537.27           142740.640000   \n",
       "\n",
       "       Max. Voltage Dischar. (V)  Min. Voltage Charg. (V)  Time at 4.15V (s)  \\\n",
       "0                          3.670                    3.211           5460.001   \n",
       "1                          4.246                    3.220           5508.992   \n",
       "2                          4.249                    3.224           5508.993   \n",
       "3                          4.250                    3.225           5502.016   \n",
       "4                          4.290                    3.398           5480.992   \n",
       "...                          ...                      ...                ...   \n",
       "15059                      3.773                    3.742            922.775   \n",
       "15060                      3.773                    3.744            915.512   \n",
       "15061                      3.773                    3.742            915.513   \n",
       "15062                      3.763                    3.839            539.375   \n",
       "15063                      4.206                    3.305          49680.004   \n",
       "\n",
       "       Time constant current (s)  Charging time (s)   RUL  \n",
       "0                        6755.01           10777.82  1112  \n",
       "1                        6762.02           10500.35  1111  \n",
       "2                        6762.02           10420.38  1110  \n",
       "3                        6762.02           10322.81  1109  \n",
       "4                       53213.54           56699.65  1107  \n",
       "...                          ...                ...   ...  \n",
       "15059                    1412.38            6678.88     4  \n",
       "15060                    1412.31            6670.38     3  \n",
       "15061                    1412.31            6637.12     2  \n",
       "15062                    1148.00            7660.62     1  \n",
       "15063                  599830.14          599830.14     0  \n",
       "\n",
       "[15064 rows x 9 columns]"
      ]
     },
     "execution_count": 3,
     "metadata": {},
     "output_type": "execute_result"
    }
   ],
   "source": [
    "df = pd.read_csv(\"Battery_RUL.csv\")\n",
    "df\n",
    "# 15064 rows × 9 columns\n",
    "# Cycle Index: number of cycle\n",
    "# Discharge Time (s)\n",
    "# Decrement 3.6-3.4V (s)\n",
    "# Max. Voltage Discharge (V)\n",
    "# Min. Voltage Charge (V)\n",
    "# Time at 4.15V (s)\n",
    "# Time Constant Current (s)\n",
    "# Charging Time (s)\n",
    "# RUL: Remaining Useful Time, Target"
   ]
  },
  {
   "cell_type": "code",
   "execution_count": 4,
   "id": "7a186b7d",
   "metadata": {
    "execution": {
     "iopub.execute_input": "2023-01-24T05:00:09.047792Z",
     "iopub.status.busy": "2023-01-24T05:00:09.047025Z",
     "iopub.status.idle": "2023-01-24T05:00:09.074966Z",
     "shell.execute_reply": "2023-01-24T05:00:09.073713Z"
    },
    "papermill": {
     "duration": 0.043209,
     "end_time": "2023-01-24T05:00:09.077404",
     "exception": false,
     "start_time": "2023-01-24T05:00:09.034195",
     "status": "completed"
    },
    "tags": []
   },
   "outputs": [
    {
     "name": "stdout",
     "output_type": "stream",
     "text": [
      "<class 'pandas.core.frame.DataFrame'>\n",
      "RangeIndex: 15064 entries, 0 to 15063\n",
      "Data columns (total 9 columns):\n",
      " #   Column                     Non-Null Count  Dtype  \n",
      "---  ------                     --------------  -----  \n",
      " 0   Cycle_Index                15064 non-null  float64\n",
      " 1   Discharge Time (s)         15064 non-null  float64\n",
      " 2   Decrement 3.6-3.4V (s)     15064 non-null  float64\n",
      " 3   Max. Voltage Dischar. (V)  15064 non-null  float64\n",
      " 4   Min. Voltage Charg. (V)    15064 non-null  float64\n",
      " 5   Time at 4.15V (s)          15064 non-null  float64\n",
      " 6   Time constant current (s)  15064 non-null  float64\n",
      " 7   Charging time (s)          15064 non-null  float64\n",
      " 8   RUL                        15064 non-null  int64  \n",
      "dtypes: float64(8), int64(1)\n",
      "memory usage: 1.0 MB\n"
     ]
    }
   ],
   "source": [
    "df.info()"
   ]
  },
  {
   "cell_type": "code",
   "execution_count": 5,
   "id": "f0939c3f",
   "metadata": {
    "execution": {
     "iopub.execute_input": "2023-01-24T05:00:09.102674Z",
     "iopub.status.busy": "2023-01-24T05:00:09.101584Z",
     "iopub.status.idle": "2023-01-24T05:00:09.147200Z",
     "shell.execute_reply": "2023-01-24T05:00:09.146045Z"
    },
    "papermill": {
     "duration": 0.061117,
     "end_time": "2023-01-24T05:00:09.150012",
     "exception": false,
     "start_time": "2023-01-24T05:00:09.088895",
     "status": "completed"
    },
    "tags": []
   },
   "outputs": [
    {
     "data": {
      "text/html": [
       "<div>\n",
       "<style scoped>\n",
       "    .dataframe tbody tr th:only-of-type {\n",
       "        vertical-align: middle;\n",
       "    }\n",
       "\n",
       "    .dataframe tbody tr th {\n",
       "        vertical-align: top;\n",
       "    }\n",
       "\n",
       "    .dataframe thead th {\n",
       "        text-align: right;\n",
       "    }\n",
       "</style>\n",
       "<table border=\"1\" class=\"dataframe\">\n",
       "  <thead>\n",
       "    <tr style=\"text-align: right;\">\n",
       "      <th></th>\n",
       "      <th>Cycle_Index</th>\n",
       "      <th>Discharge Time (s)</th>\n",
       "      <th>Decrement 3.6-3.4V (s)</th>\n",
       "      <th>Max. Voltage Dischar. (V)</th>\n",
       "      <th>Min. Voltage Charg. (V)</th>\n",
       "      <th>Time at 4.15V (s)</th>\n",
       "      <th>Time constant current (s)</th>\n",
       "      <th>Charging time (s)</th>\n",
       "      <th>RUL</th>\n",
       "    </tr>\n",
       "  </thead>\n",
       "  <tbody>\n",
       "    <tr>\n",
       "      <th>count</th>\n",
       "      <td>15064.000000</td>\n",
       "      <td>15064.000000</td>\n",
       "      <td>15064.000000</td>\n",
       "      <td>15064.000000</td>\n",
       "      <td>15064.000000</td>\n",
       "      <td>15064.000000</td>\n",
       "      <td>15064.000000</td>\n",
       "      <td>15064.000000</td>\n",
       "      <td>15064.000000</td>\n",
       "    </tr>\n",
       "    <tr>\n",
       "      <th>mean</th>\n",
       "      <td>556.155005</td>\n",
       "      <td>4581.273960</td>\n",
       "      <td>1239.784672</td>\n",
       "      <td>3.908176</td>\n",
       "      <td>3.577904</td>\n",
       "      <td>3768.336171</td>\n",
       "      <td>5461.266970</td>\n",
       "      <td>10066.496204</td>\n",
       "      <td>554.194172</td>\n",
       "    </tr>\n",
       "    <tr>\n",
       "      <th>std</th>\n",
       "      <td>322.378480</td>\n",
       "      <td>33144.012077</td>\n",
       "      <td>15039.589269</td>\n",
       "      <td>0.091003</td>\n",
       "      <td>0.123695</td>\n",
       "      <td>9129.552477</td>\n",
       "      <td>25155.845202</td>\n",
       "      <td>26415.354121</td>\n",
       "      <td>322.434514</td>\n",
       "    </tr>\n",
       "    <tr>\n",
       "      <th>min</th>\n",
       "      <td>1.000000</td>\n",
       "      <td>8.690000</td>\n",
       "      <td>-397645.908000</td>\n",
       "      <td>3.043000</td>\n",
       "      <td>3.022000</td>\n",
       "      <td>-113.584000</td>\n",
       "      <td>5.980000</td>\n",
       "      <td>5.980000</td>\n",
       "      <td>0.000000</td>\n",
       "    </tr>\n",
       "    <tr>\n",
       "      <th>25%</th>\n",
       "      <td>271.000000</td>\n",
       "      <td>1169.310000</td>\n",
       "      <td>319.600000</td>\n",
       "      <td>3.846000</td>\n",
       "      <td>3.488000</td>\n",
       "      <td>1828.884179</td>\n",
       "      <td>2564.310000</td>\n",
       "      <td>7841.922500</td>\n",
       "      <td>277.000000</td>\n",
       "    </tr>\n",
       "    <tr>\n",
       "      <th>50%</th>\n",
       "      <td>560.000000</td>\n",
       "      <td>1557.250000</td>\n",
       "      <td>439.239471</td>\n",
       "      <td>3.906000</td>\n",
       "      <td>3.574000</td>\n",
       "      <td>2930.203500</td>\n",
       "      <td>3824.260000</td>\n",
       "      <td>8320.415000</td>\n",
       "      <td>551.000000</td>\n",
       "    </tr>\n",
       "    <tr>\n",
       "      <th>75%</th>\n",
       "      <td>833.000000</td>\n",
       "      <td>1908.000000</td>\n",
       "      <td>600.000000</td>\n",
       "      <td>3.972000</td>\n",
       "      <td>3.663000</td>\n",
       "      <td>4088.326500</td>\n",
       "      <td>5012.350000</td>\n",
       "      <td>8763.282500</td>\n",
       "      <td>839.000000</td>\n",
       "    </tr>\n",
       "    <tr>\n",
       "      <th>max</th>\n",
       "      <td>1134.000000</td>\n",
       "      <td>958320.370000</td>\n",
       "      <td>406703.768000</td>\n",
       "      <td>4.363000</td>\n",
       "      <td>4.379000</td>\n",
       "      <td>245101.117000</td>\n",
       "      <td>880728.100000</td>\n",
       "      <td>880728.100000</td>\n",
       "      <td>1133.000000</td>\n",
       "    </tr>\n",
       "  </tbody>\n",
       "</table>\n",
       "</div>"
      ],
      "text/plain": [
       "        Cycle_Index  Discharge Time (s)  Decrement 3.6-3.4V (s)  \\\n",
       "count  15064.000000        15064.000000            15064.000000   \n",
       "mean     556.155005         4581.273960             1239.784672   \n",
       "std      322.378480        33144.012077            15039.589269   \n",
       "min        1.000000            8.690000          -397645.908000   \n",
       "25%      271.000000         1169.310000              319.600000   \n",
       "50%      560.000000         1557.250000              439.239471   \n",
       "75%      833.000000         1908.000000              600.000000   \n",
       "max     1134.000000       958320.370000           406703.768000   \n",
       "\n",
       "       Max. Voltage Dischar. (V)  Min. Voltage Charg. (V)  Time at 4.15V (s)  \\\n",
       "count               15064.000000             15064.000000       15064.000000   \n",
       "mean                    3.908176                 3.577904        3768.336171   \n",
       "std                     0.091003                 0.123695        9129.552477   \n",
       "min                     3.043000                 3.022000        -113.584000   \n",
       "25%                     3.846000                 3.488000        1828.884179   \n",
       "50%                     3.906000                 3.574000        2930.203500   \n",
       "75%                     3.972000                 3.663000        4088.326500   \n",
       "max                     4.363000                 4.379000      245101.117000   \n",
       "\n",
       "       Time constant current (s)  Charging time (s)           RUL  \n",
       "count               15064.000000       15064.000000  15064.000000  \n",
       "mean                 5461.266970       10066.496204    554.194172  \n",
       "std                 25155.845202       26415.354121    322.434514  \n",
       "min                     5.980000           5.980000      0.000000  \n",
       "25%                  2564.310000        7841.922500    277.000000  \n",
       "50%                  3824.260000        8320.415000    551.000000  \n",
       "75%                  5012.350000        8763.282500    839.000000  \n",
       "max                880728.100000      880728.100000   1133.000000  "
      ]
     },
     "execution_count": 5,
     "metadata": {},
     "output_type": "execute_result"
    }
   ],
   "source": [
    "df.describe()"
   ]
  },
  {
   "cell_type": "markdown",
   "id": "6a82e6ca",
   "metadata": {
    "papermill": {
     "duration": 0.011638,
     "end_time": "2023-01-24T05:00:09.173473",
     "exception": false,
     "start_time": "2023-01-24T05:00:09.161835",
     "status": "completed"
    },
    "tags": []
   },
   "source": [
    "# EDA"
   ]
  },
  {
   "cell_type": "code",
   "execution_count": 6,
   "id": "110bfd12",
   "metadata": {
    "execution": {
     "iopub.execute_input": "2023-01-24T05:00:09.199169Z",
     "iopub.status.busy": "2023-01-24T05:00:09.198265Z",
     "iopub.status.idle": "2023-01-24T05:00:09.634391Z",
     "shell.execute_reply": "2023-01-24T05:00:09.633293Z"
    },
    "papermill": {
     "duration": 0.451603,
     "end_time": "2023-01-24T05:00:09.636832",
     "exception": false,
     "start_time": "2023-01-24T05:00:09.185229",
     "status": "completed"
    },
    "tags": []
   },
   "outputs": [
    {
     "data": {
      "image/png": "[encoded data removed]",
      "text/plain": [
       "<Figure size 640x480 with 1 Axes>"
      ]
     },
     "metadata": {},
     "output_type": "display_data"
    }
   ],
   "source": [
    "plt.title('RUL, Remaining Useful Time Histogram')\n",
    "sns.histplot(df.RUL, kde=True)\n",
    "plt.show()"
   ]
  },
  {
   "cell_type": "code",
   "execution_count": 7,
   "id": "3596b5dd",
   "metadata": {
    "execution": {
     "iopub.execute_input": "2023-01-24T05:00:09.663188Z",
     "iopub.status.busy": "2023-01-24T05:00:09.662771Z",
     "iopub.status.idle": "2023-01-24T05:00:09.686178Z",
     "shell.execute_reply": "2023-01-24T05:00:09.685041Z"
    },
    "papermill": {
     "duration": 0.039856,
     "end_time": "2023-01-24T05:00:09.688995",
     "exception": false,
     "start_time": "2023-01-24T05:00:09.649139",
     "status": "completed"
    },
    "tags": []
   },
   "outputs": [
    {
     "data": {
      "text/html": [
       "<div>\n",
       "<style scoped>\n",
       "    .dataframe tbody tr th:only-of-type {\n",
       "        vertical-align: middle;\n",
       "    }\n",
       "\n",
       "    .dataframe tbody tr th {\n",
       "        vertical-align: top;\n",
       "    }\n",
       "\n",
       "    .dataframe thead th {\n",
       "        text-align: right;\n",
       "    }\n",
       "</style>\n",
       "<table border=\"1\" class=\"dataframe\">\n",
       "  <thead>\n",
       "    <tr style=\"text-align: right;\">\n",
       "      <th></th>\n",
       "      <th>Cycle_Index</th>\n",
       "      <th>Discharge Time (s)</th>\n",
       "      <th>Decrement 3.6-3.4V (s)</th>\n",
       "      <th>Max. Voltage Dischar. (V)</th>\n",
       "      <th>Min. Voltage Charg. (V)</th>\n",
       "      <th>Time at 4.15V (s)</th>\n",
       "      <th>Time constant current (s)</th>\n",
       "      <th>Charging time (s)</th>\n",
       "      <th>RUL</th>\n",
       "    </tr>\n",
       "  </thead>\n",
       "  <tbody>\n",
       "    <tr>\n",
       "      <th>Cycle_Index</th>\n",
       "      <td>1.000000</td>\n",
       "      <td>-0.011925</td>\n",
       "      <td>-0.012090</td>\n",
       "      <td>-0.782859</td>\n",
       "      <td>0.759850</td>\n",
       "      <td>-0.176486</td>\n",
       "      <td>-0.040622</td>\n",
       "      <td>-0.018305</td>\n",
       "      <td>-0.999756</td>\n",
       "    </tr>\n",
       "    <tr>\n",
       "      <th>Discharge Time (s)</th>\n",
       "      <td>-0.011925</td>\n",
       "      <td>1.000000</td>\n",
       "      <td>0.444984</td>\n",
       "      <td>0.349161</td>\n",
       "      <td>-0.239410</td>\n",
       "      <td>0.776720</td>\n",
       "      <td>0.912536</td>\n",
       "      <td>0.935544</td>\n",
       "      <td>0.011957</td>\n",
       "    </tr>\n",
       "    <tr>\n",
       "      <th>Decrement 3.6-3.4V (s)</th>\n",
       "      <td>-0.012090</td>\n",
       "      <td>0.444984</td>\n",
       "      <td>1.000000</td>\n",
       "      <td>0.199470</td>\n",
       "      <td>-0.132765</td>\n",
       "      <td>0.477091</td>\n",
       "      <td>0.343228</td>\n",
       "      <td>0.371610</td>\n",
       "      <td>0.011998</td>\n",
       "    </tr>\n",
       "    <tr>\n",
       "      <th>Max. Voltage Dischar. (V)</th>\n",
       "      <td>-0.782859</td>\n",
       "      <td>0.349161</td>\n",
       "      <td>0.199470</td>\n",
       "      <td>1.000000</td>\n",
       "      <td>-0.718182</td>\n",
       "      <td>0.446070</td>\n",
       "      <td>0.286886</td>\n",
       "      <td>0.269009</td>\n",
       "      <td>0.782800</td>\n",
       "    </tr>\n",
       "    <tr>\n",
       "      <th>Min. Voltage Charg. (V)</th>\n",
       "      <td>0.759850</td>\n",
       "      <td>-0.239410</td>\n",
       "      <td>-0.132765</td>\n",
       "      <td>-0.718182</td>\n",
       "      <td>1.000000</td>\n",
       "      <td>-0.344098</td>\n",
       "      <td>-0.216840</td>\n",
       "      <td>-0.200423</td>\n",
       "      <td>-0.759805</td>\n",
       "    </tr>\n",
       "    <tr>\n",
       "      <th>Time at 4.15V (s)</th>\n",
       "      <td>-0.176486</td>\n",
       "      <td>0.776720</td>\n",
       "      <td>0.477091</td>\n",
       "      <td>0.446070</td>\n",
       "      <td>-0.344098</td>\n",
       "      <td>1.000000</td>\n",
       "      <td>0.568922</td>\n",
       "      <td>0.676859</td>\n",
       "      <td>0.176514</td>\n",
       "    </tr>\n",
       "    <tr>\n",
       "      <th>Time constant current (s)</th>\n",
       "      <td>-0.040622</td>\n",
       "      <td>0.912536</td>\n",
       "      <td>0.343228</td>\n",
       "      <td>0.286886</td>\n",
       "      <td>-0.216840</td>\n",
       "      <td>0.568922</td>\n",
       "      <td>1.000000</td>\n",
       "      <td>0.953522</td>\n",
       "      <td>0.040675</td>\n",
       "    </tr>\n",
       "    <tr>\n",
       "      <th>Charging time (s)</th>\n",
       "      <td>-0.018305</td>\n",
       "      <td>0.935544</td>\n",
       "      <td>0.371610</td>\n",
       "      <td>0.269009</td>\n",
       "      <td>-0.200423</td>\n",
       "      <td>0.676859</td>\n",
       "      <td>0.953522</td>\n",
       "      <td>1.000000</td>\n",
       "      <td>0.018299</td>\n",
       "    </tr>\n",
       "    <tr>\n",
       "      <th>RUL</th>\n",
       "      <td>-0.999756</td>\n",
       "      <td>0.011957</td>\n",
       "      <td>0.011998</td>\n",
       "      <td>0.782800</td>\n",
       "      <td>-0.759805</td>\n",
       "      <td>0.176514</td>\n",
       "      <td>0.040675</td>\n",
       "      <td>0.018299</td>\n",
       "      <td>1.000000</td>\n",
       "    </tr>\n",
       "  </tbody>\n",
       "</table>\n",
       "</div>"
      ],
      "text/plain": [
       "                           Cycle_Index  Discharge Time (s)  \\\n",
       "Cycle_Index                   1.000000           -0.011925   \n",
       "Discharge Time (s)           -0.011925            1.000000   \n",
       "Decrement 3.6-3.4V (s)       -0.012090            0.444984   \n",
       "Max. Voltage Dischar. (V)    -0.782859            0.349161   \n",
       "Min. Voltage Charg. (V)       0.759850           -0.239410   \n",
       "Time at 4.15V (s)            -0.176486            0.776720   \n",
       "Time constant current (s)    -0.040622            0.912536   \n",
       "Charging time (s)            -0.018305            0.935544   \n",
       "RUL                          -0.999756            0.011957   \n",
       "\n",
       "                           Decrement 3.6-3.4V (s)  Max. Voltage Dischar. (V)  \\\n",
       "Cycle_Index                             -0.012090                  -0.782859   \n",
       "Discharge Time (s)                       0.444984                   0.349161   \n",
       "Decrement 3.6-3.4V (s)                   1.000000                   0.199470   \n",
       "Max. Voltage Dischar. (V)                0.199470                   1.000000   \n",
       "Min. Voltage Charg. (V)                 -0.132765                  -0.718182   \n",
       "Time at 4.15V (s)                        0.477091                   0.446070   \n",
       "Time constant current (s)                0.343228                   0.286886   \n",
       "Charging time (s)                        0.371610                   0.269009   \n",
       "RUL                                      0.011998                   0.782800   \n",
       "\n",
       "                           Min. Voltage Charg. (V)  Time at 4.15V (s)  \\\n",
       "Cycle_Index                               0.759850          -0.176486   \n",
       "Discharge Time (s)                       -0.239410           0.776720   \n",
       "Decrement 3.6-3.4V (s)                   -0.132765           0.477091   \n",
       "Max. Voltage Dischar. (V)                -0.718182           0.446070   \n",
       "Min. Voltage Charg. (V)                   1.000000          -0.344098   \n",
       "Time at 4.15V (s)                        -0.344098           1.000000   \n",
       "Time constant current (s)                -0.216840           0.568922   \n",
       "Charging time (s)                        -0.200423           0.676859   \n",
       "RUL                                      -0.759805           0.176514   \n",
       "\n",
       "                           Time constant current (s)  Charging time (s)  \\\n",
       "Cycle_Index                                -0.040622          -0.018305   \n",
       "Discharge Time (s)                          0.912536           0.935544   \n",
       "Decrement 3.6-3.4V (s)                      0.343228           0.371610   \n",
       "Max. Voltage Dischar. (V)                   0.286886           0.269009   \n",
       "Min. Voltage Charg. (V)                    -0.216840          -0.200423   \n",
       "Time at 4.15V (s)                           0.568922           0.676859   \n",
       "Time constant current (s)                   1.000000           0.953522   \n",
       "Charging time (s)                           0.953522           1.000000   \n",
       "RUL                                         0.040675           0.018299   \n",
       "\n",
       "                                RUL  \n",
       "Cycle_Index               -0.999756  \n",
       "Discharge Time (s)         0.011957  \n",
       "Decrement 3.6-3.4V (s)     0.011998  \n",
       "Max. Voltage Dischar. (V)  0.782800  \n",
       "Min. Voltage Charg. (V)   -0.759805  \n",
       "Time at 4.15V (s)          0.176514  \n",
       "Time constant current (s)  0.040675  \n",
       "Charging time (s)          0.018299  \n",
       "RUL                        1.000000  "
      ]
     },
     "execution_count": 7,
     "metadata": {},
     "output_type": "execute_result"
    }
   ],
   "source": [
    "corrmat = df.corr()\n",
    "corrmat"
   ]
  },
  {
   "cell_type": "code",
   "execution_count": 9,
   "id": "b94364fa",
   "metadata": {
    "execution": {
     "iopub.execute_input": "2023-01-24T05:00:09.717611Z",
     "iopub.status.busy": "2023-01-24T05:00:09.716939Z",
     "iopub.status.idle": "2023-01-24T05:00:10.507262Z",
     "shell.execute_reply": "2023-01-24T05:00:10.506014Z"
    },
    "papermill": {
     "duration": 0.808097,
     "end_time": "2023-01-24T05:00:10.510470",
     "exception": false,
     "start_time": "2023-01-24T05:00:09.702373",
     "status": "completed"
    },
    "tags": []
   },
   "outputs": [],
   "source": [
    "# plt.figure(figsize=(12, 8))\n",
    "# k=9\n",
    "# cols = corrmat.nlargest(k, 'RUL')['RUL'].index\n",
    "# cm = np.corrcoef(df[cols].values.T)\n",
    "# sns.set(font_scale=1.4)\n",
    "# hm = sns.heatmap(cm, cbar=True, annot=True, square=True, fmt='.2f', annot_kws={'size': 10}, \n",
    "#                  yticklabels=cols.values, xticklabels=cols.values,cmap=\"rainbow\")\n",
    "# plt.show()\n"
   ]
  },
  {
   "cell_type": "code",
   "execution_count": 10,
   "id": "91fd2f52",
   "metadata": {
    "execution": {
     "iopub.execute_input": "2023-01-24T05:00:10.540491Z",
     "iopub.status.busy": "2023-01-24T05:00:10.540046Z",
     "iopub.status.idle": "2023-01-24T05:00:10.547534Z",
     "shell.execute_reply": "2023-01-24T05:00:10.546468Z"
    },
    "papermill": {
     "duration": 0.024999,
     "end_time": "2023-01-24T05:00:10.549729",
     "exception": false,
     "start_time": "2023-01-24T05:00:10.524730",
     "status": "completed"
    },
    "tags": []
   },
   "outputs": [
    {
     "data": {
      "text/plain": [
       "Index(['Cycle_Index', 'Discharge Time (s)', 'Decrement 3.6-3.4V (s)',\n",
       "       'Max. Voltage Dischar. (V)', 'Min. Voltage Charg. (V)',\n",
       "       'Time at 4.15V (s)', 'Time constant current (s)', 'Charging time (s)',\n",
       "       'RUL'],\n",
       "      dtype='object')"
      ]
     },
     "execution_count": 10,
     "metadata": {},
     "output_type": "execute_result"
    }
   ],
   "source": [
    "df.columns"
   ]
  },
  {
   "cell_type": "code",
   "execution_count": 11,
   "id": "0bb8cfb1",
   "metadata": {
    "execution": {
     "iopub.execute_input": "2023-01-24T05:00:10.580498Z",
     "iopub.status.busy": "2023-01-24T05:00:10.579143Z",
     "iopub.status.idle": "2023-01-24T05:01:40.816590Z",
     "shell.execute_reply": "2023-01-24T05:01:40.815096Z"
    },
    "papermill": {
     "duration": 90.282015,
     "end_time": "2023-01-24T05:01:40.845696",
     "exception": false,
     "start_time": "2023-01-24T05:00:10.563681",
     "status": "completed"
    },
    "tags": []
   },
   "outputs": [],
   "source": [
    "# sns.pairplot(df[['Cycle_Index', 'Discharge Time (s)', 'Decrement 3.6-3.4V (s)', \n",
    "#                  'Max. Voltage Dischar. (V)', 'Min. Voltage Charg. (V)', 'Time at 4.15V (s)', \n",
    "#                  'Time constant current (s)', 'Charging time (s)', 'RUL']], \n",
    "#              diag_kind='kde', kind='reg')\n",
    "# plt.show()"
   ]
  },
  {
   "cell_type": "markdown",
   "id": "d8d021d8",
   "metadata": {
    "papermill": {
     "duration": 0.019816,
     "end_time": "2023-01-24T05:01:40.885718",
     "exception": false,
     "start_time": "2023-01-24T05:01:40.865902",
     "status": "completed"
    },
    "tags": []
   },
   "source": [
    "> need to remove Cycle_Index It's the reverse side of the coin with RUL."
   ]
  },
  {
   "cell_type": "markdown",
   "id": "ed228ae7",
   "metadata": {
    "papermill": {
     "duration": 0.019938,
     "end_time": "2023-01-24T05:01:40.925983",
     "exception": false,
     "start_time": "2023-01-24T05:01:40.906045",
     "status": "completed"
    },
    "tags": []
   },
   "source": [
    "# split df into target and features"
   ]
  },
  {
   "cell_type": "code",
   "execution_count": 12,
   "id": "bf59e757",
   "metadata": {
    "execution": {
     "iopub.execute_input": "2023-01-24T05:01:40.969107Z",
     "iopub.status.busy": "2023-01-24T05:01:40.968653Z",
     "iopub.status.idle": "2023-01-24T05:01:40.977620Z",
     "shell.execute_reply": "2023-01-24T05:01:40.976756Z"
    },
    "papermill": {
     "duration": 0.033237,
     "end_time": "2023-01-24T05:01:40.979711",
     "exception": false,
     "start_time": "2023-01-24T05:01:40.946474",
     "status": "completed"
    },
    "tags": []
   },
   "outputs": [
    {
     "data": {
      "text/plain": [
       "((15064,), (15064, 8))"
      ]
     },
     "execution_count": 12,
     "metadata": {},
     "output_type": "execute_result"
    }
   ],
   "source": [
    "target = df['RUL']\n",
    "features = df.drop(['RUL'], axis=1)\n",
    "\n",
    "target.shape, features.shape\n",
    "# ((1032,), (1032, 14))"
   ]
  },
  {
   "cell_type": "code",
   "execution_count": 13,
   "id": "5bacca74",
   "metadata": {
    "execution": {
     "iopub.execute_input": "2023-01-24T05:01:41.022723Z",
     "iopub.status.busy": "2023-01-24T05:01:41.022021Z",
     "iopub.status.idle": "2023-01-24T05:01:41.029706Z",
     "shell.execute_reply": "2023-01-24T05:01:41.028659Z"
    },
    "papermill": {
     "duration": 0.031665,
     "end_time": "2023-01-24T05:01:41.031901",
     "exception": false,
     "start_time": "2023-01-24T05:01:41.000236",
     "status": "completed"
    },
    "tags": []
   },
   "outputs": [
    {
     "data": {
      "text/plain": [
       "(15064, 7)"
      ]
     },
     "execution_count": 13,
     "metadata": {},
     "output_type": "execute_result"
    }
   ],
   "source": [
    "# drop Cycle_Index\n",
    "features = features.drop(['Cycle_Index'], axis=1)\n",
    "features.shape"
   ]
  },
  {
   "cell_type": "markdown",
   "id": "8a366f35",
   "metadata": {
    "papermill": {
     "duration": 0.020064,
     "end_time": "2023-01-24T05:01:41.072601",
     "exception": false,
     "start_time": "2023-01-24T05:01:41.052537",
     "status": "completed"
    },
    "tags": []
   },
   "source": [
    "# standardization of features"
   ]
  },
  {
   "cell_type": "code",
   "execution_count": 14,
   "id": "8b17b4a5",
   "metadata": {
    "execution": {
     "iopub.execute_input": "2023-01-24T05:01:41.115410Z",
     "iopub.status.busy": "2023-01-24T05:01:41.114891Z",
     "iopub.status.idle": "2023-01-24T05:01:41.319854Z",
     "shell.execute_reply": "2023-01-24T05:01:41.318993Z"
    },
    "papermill": {
     "duration": 0.229333,
     "end_time": "2023-01-24T05:01:41.322261",
     "exception": false,
     "start_time": "2023-01-24T05:01:41.092928",
     "status": "completed"
    },
    "tags": []
   },
   "outputs": [
    {
     "data": {
      "text/html": [
       "<div>\n",
       "<style scoped>\n",
       "    .dataframe tbody tr th:only-of-type {\n",
       "        vertical-align: middle;\n",
       "    }\n",
       "\n",
       "    .dataframe tbody tr th {\n",
       "        vertical-align: top;\n",
       "    }\n",
       "\n",
       "    .dataframe thead th {\n",
       "        text-align: right;\n",
       "    }\n",
       "</style>\n",
       "<table border=\"1\" class=\"dataframe\">\n",
       "  <thead>\n",
       "    <tr style=\"text-align: right;\">\n",
       "      <th></th>\n",
       "      <th>Discharge Time (s)</th>\n",
       "      <th>Decrement 3.6-3.4V (s)</th>\n",
       "      <th>Max. Voltage Dischar. (V)</th>\n",
       "      <th>Min. Voltage Charg. (V)</th>\n",
       "      <th>Time at 4.15V (s)</th>\n",
       "      <th>Time constant current (s)</th>\n",
       "      <th>Charging time (s)</th>\n",
       "    </tr>\n",
       "  </thead>\n",
       "  <tbody>\n",
       "    <tr>\n",
       "      <th>0</th>\n",
       "      <td>-0.059922</td>\n",
       "      <td>-0.005871</td>\n",
       "      <td>-2.617313</td>\n",
       "      <td>-2.966302</td>\n",
       "      <td>0.185302</td>\n",
       "      <td>0.051431</td>\n",
       "      <td>0.026929</td>\n",
       "    </tr>\n",
       "    <tr>\n",
       "      <th>1</th>\n",
       "      <td>0.085308</td>\n",
       "      <td>-0.004473</td>\n",
       "      <td>3.712333</td>\n",
       "      <td>-2.893540</td>\n",
       "      <td>0.190668</td>\n",
       "      <td>0.051710</td>\n",
       "      <td>0.016425</td>\n",
       "    </tr>\n",
       "    <tr>\n",
       "      <th>2</th>\n",
       "      <td>0.084859</td>\n",
       "      <td>-0.008431</td>\n",
       "      <td>3.745300</td>\n",
       "      <td>-2.861201</td>\n",
       "      <td>0.190668</td>\n",
       "      <td>0.051710</td>\n",
       "      <td>0.013397</td>\n",
       "    </tr>\n",
       "    <tr>\n",
       "      <th>3</th>\n",
       "      <td>0.084610</td>\n",
       "      <td>-0.010603</td>\n",
       "      <td>3.756289</td>\n",
       "      <td>-2.853117</td>\n",
       "      <td>0.189904</td>\n",
       "      <td>0.051710</td>\n",
       "      <td>0.009704</td>\n",
       "    </tr>\n",
       "    <tr>\n",
       "      <th>4</th>\n",
       "      <td>1.823662</td>\n",
       "      <td>1.899962</td>\n",
       "      <td>4.195847</td>\n",
       "      <td>-1.454466</td>\n",
       "      <td>0.187601</td>\n",
       "      <td>1.898321</td>\n",
       "      <td>1.765439</td>\n",
       "    </tr>\n",
       "    <tr>\n",
       "      <th>...</th>\n",
       "      <td>...</td>\n",
       "      <td>...</td>\n",
       "      <td>...</td>\n",
       "      <td>...</td>\n",
       "      <td>...</td>\n",
       "      <td>...</td>\n",
       "      <td>...</td>\n",
       "    </tr>\n",
       "    <tr>\n",
       "      <th>15059</th>\n",
       "      <td>-0.114982</td>\n",
       "      <td>-0.070500</td>\n",
       "      <td>-1.485449</td>\n",
       "      <td>1.326665</td>\n",
       "      <td>-0.311697</td>\n",
       "      <td>-0.160957</td>\n",
       "      <td>-0.128248</td>\n",
       "    </tr>\n",
       "    <tr>\n",
       "      <th>15060</th>\n",
       "      <td>-0.114961</td>\n",
       "      <td>-0.070500</td>\n",
       "      <td>-1.485449</td>\n",
       "      <td>1.342834</td>\n",
       "      <td>-0.312493</td>\n",
       "      <td>-0.160960</td>\n",
       "      <td>-0.128570</td>\n",
       "    </tr>\n",
       "    <tr>\n",
       "      <th>15061</th>\n",
       "      <td>-0.115022</td>\n",
       "      <td>-0.070511</td>\n",
       "      <td>-1.485449</td>\n",
       "      <td>1.326665</td>\n",
       "      <td>-0.312493</td>\n",
       "      <td>-0.160960</td>\n",
       "      <td>-0.129829</td>\n",
       "    </tr>\n",
       "    <tr>\n",
       "      <th>15062</th>\n",
       "      <td>-0.114878</td>\n",
       "      <td>-0.071641</td>\n",
       "      <td>-1.595339</td>\n",
       "      <td>2.110879</td>\n",
       "      <td>-0.353694</td>\n",
       "      <td>-0.171468</td>\n",
       "      <td>-0.091082</td>\n",
       "    </tr>\n",
       "    <tr>\n",
       "      <th>15063</th>\n",
       "      <td>20.304673</td>\n",
       "      <td>9.408871</td>\n",
       "      <td>3.272774</td>\n",
       "      <td>-2.206342</td>\n",
       "      <td>5.029074</td>\n",
       "      <td>23.628250</td>\n",
       "      <td>22.327288</td>\n",
       "    </tr>\n",
       "  </tbody>\n",
       "</table>\n",
       "<p>15064 rows × 7 columns</p>\n",
       "</div>"
      ],
      "text/plain": [
       "       Discharge Time (s)  Decrement 3.6-3.4V (s)  Max. Voltage Dischar. (V)  \\\n",
       "0               -0.059922               -0.005871                  -2.617313   \n",
       "1                0.085308               -0.004473                   3.712333   \n",
       "2                0.084859               -0.008431                   3.745300   \n",
       "3                0.084610               -0.010603                   3.756289   \n",
       "4                1.823662                1.899962                   4.195847   \n",
       "...                   ...                     ...                        ...   \n",
       "15059           -0.114982               -0.070500                  -1.485449   \n",
       "15060           -0.114961               -0.070500                  -1.485449   \n",
       "15061           -0.115022               -0.070511                  -1.485449   \n",
       "15062           -0.114878               -0.071641                  -1.595339   \n",
       "15063           20.304673                9.408871                   3.272774   \n",
       "\n",
       "       Min. Voltage Charg. (V)  Time at 4.15V (s)  Time constant current (s)  \\\n",
       "0                    -2.966302           0.185302                   0.051431   \n",
       "1                    -2.893540           0.190668                   0.051710   \n",
       "2                    -2.861201           0.190668                   0.051710   \n",
       "3                    -2.853117           0.189904                   0.051710   \n",
       "4                    -1.454466           0.187601                   1.898321   \n",
       "...                        ...                ...                        ...   \n",
       "15059                 1.326665          -0.311697                  -0.160957   \n",
       "15060                 1.342834          -0.312493                  -0.160960   \n",
       "15061                 1.326665          -0.312493                  -0.160960   \n",
       "15062                 2.110879          -0.353694                  -0.171468   \n",
       "15063                -2.206342           5.029074                  23.628250   \n",
       "\n",
       "       Charging time (s)  \n",
       "0               0.026929  \n",
       "1               0.016425  \n",
       "2               0.013397  \n",
       "3               0.009704  \n",
       "4               1.765439  \n",
       "...                  ...  \n",
       "15059          -0.128248  \n",
       "15060          -0.128570  \n",
       "15061          -0.129829  \n",
       "15062          -0.091082  \n",
       "15063          22.327288  \n",
       "\n",
       "[15064 rows x 7 columns]"
      ]
     },
     "execution_count": 14,
     "metadata": {},
     "output_type": "execute_result"
    }
   ],
   "source": [
    "from sklearn.preprocessing import StandardScaler\n",
    "\n",
    "scaler = StandardScaler()\n",
    "features_std = scaler.fit_transform(features)\n",
    "\n",
    "features_std = pd.DataFrame(features_std, columns = features.columns)\n",
    "features_std"
   ]
  },
  {
   "cell_type": "markdown",
   "id": "6863eadc",
   "metadata": {
    "papermill": {
     "duration": 0.020846,
     "end_time": "2023-01-24T05:01:41.364278",
     "exception": false,
     "start_time": "2023-01-24T05:01:41.343432",
     "status": "completed"
    },
    "tags": []
   },
   "source": [
    "# split into train and test data"
   ]
  },
  {
   "cell_type": "code",
   "execution_count": 15,
   "id": "97e1949d",
   "metadata": {
    "execution": {
     "iopub.execute_input": "2023-01-24T05:01:41.409055Z",
     "iopub.status.busy": "2023-01-24T05:01:41.408189Z",
     "iopub.status.idle": "2023-01-24T05:01:41.498993Z",
     "shell.execute_reply": "2023-01-24T05:01:41.497760Z"
    },
    "papermill": {
     "duration": 0.115856,
     "end_time": "2023-01-24T05:01:41.501337",
     "exception": false,
     "start_time": "2023-01-24T05:01:41.385481",
     "status": "completed"
    },
    "tags": []
   },
   "outputs": [
    {
     "data": {
      "text/plain": [
       "((12051, 7), (3013, 7), (12051,), (3013,))"
      ]
     },
     "execution_count": 15,
     "metadata": {},
     "output_type": "execute_result"
    }
   ],
   "source": [
    "from sklearn.model_selection import (train_test_split, StratifiedKFold)\n",
    "\n",
    "X_train, X_test, y_train, y_test = train_test_split(features_std, target, test_size=0.2, random_state=2301)\n",
    "\n",
    "X_train.shape, X_test.shape, y_train.shape, y_test.shape"
   ]
  },
  {
   "cell_type": "markdown",
   "id": "fdbb1206",
   "metadata": {
    "papermill": {
     "duration": 0.021278,
     "end_time": "2023-01-24T05:01:41.544672",
     "exception": false,
     "start_time": "2023-01-24T05:01:41.523394",
     "status": "completed"
    },
    "tags": []
   },
   "source": [
    "# compare Regression Models"
   ]
  },
  {
   "cell_type": "code",
   "execution_count": 16,
   "id": "52494a9b",
   "metadata": {
    "execution": {
     "iopub.execute_input": "2023-01-24T05:01:41.589361Z",
     "iopub.status.busy": "2023-01-24T05:01:41.588935Z",
     "iopub.status.idle": "2023-01-24T05:01:41.773411Z",
     "shell.execute_reply": "2023-01-24T05:01:41.772238Z"
    },
    "papermill": {
     "duration": 0.209872,
     "end_time": "2023-01-24T05:01:41.775894",
     "exception": false,
     "start_time": "2023-01-24T05:01:41.566022",
     "status": "completed"
    },
    "tags": []
   },
   "outputs": [
    {
     "data": {
      "text/html": [
       "<style>#sk-container-id-1 {color: black;background-color: white;}#sk-container-id-1 pre{padding: 0;}#sk-container-id-1 div.sk-toggleable {background-color: white;}#sk-container-id-1 label.sk-toggleable__label {cursor: pointer;display: block;width: 100%;margin-bottom: 0;padding: 0.3em;box-sizing: border-box;text-align: center;}#sk-container-id-1 label.sk-toggleable__label-arrow:before {content: \"▸\";float: left;margin-right: 0.25em;color: #696969;}#sk-container-id-1 label.sk-toggleable__label-arrow:hover:before {color: black;}#sk-container-id-1 div.sk-estimator:hover label.sk-toggleable__label-arrow:before {color: black;}#sk-container-id-1 div.sk-toggleable__content {max-height: 0;max-width: 0;overflow: hidden;text-align: left;background-color: #f0f8ff;}#sk-container-id-1 div.sk-toggleable__content pre {margin: 0.2em;color: black;border-radius: 0.25em;background-color: #f0f8ff;}#sk-container-id-1 input.sk-toggleable__control:checked~div.sk-toggleable__content {max-height: 200px;max-width: 100%;overflow: auto;}#sk-container-id-1 input.sk-toggleable__control:checked~label.sk-toggleable__label-arrow:before {content: \"▾\";}#sk-container-id-1 div.sk-estimator input.sk-toggleable__control:checked~label.sk-toggleable__label {background-color: #d4ebff;}#sk-container-id-1 div.sk-label input.sk-toggleable__control:checked~label.sk-toggleable__label {background-color: #d4ebff;}#sk-container-id-1 input.sk-hidden--visually {border: 0;clip: rect(1px 1px 1px 1px);clip: rect(1px, 1px, 1px, 1px);height: 1px;margin: -1px;overflow: hidden;padding: 0;position: absolute;width: 1px;}#sk-container-id-1 div.sk-estimator {font-family: monospace;background-color: #f0f8ff;border: 1px dotted black;border-radius: 0.25em;box-sizing: border-box;margin-bottom: 0.5em;}#sk-container-id-1 div.sk-estimator:hover {background-color: #d4ebff;}#sk-container-id-1 div.sk-parallel-item::after {content: \"\";width: 100%;border-bottom: 1px solid gray;flex-grow: 1;}#sk-container-id-1 div.sk-label:hover label.sk-toggleable__label {background-color: #d4ebff;}#sk-container-id-1 div.sk-serial::before {content: \"\";position: absolute;border-left: 1px solid gray;box-sizing: border-box;top: 0;bottom: 0;left: 50%;z-index: 0;}#sk-container-id-1 div.sk-serial {display: flex;flex-direction: column;align-items: center;background-color: white;padding-right: 0.2em;padding-left: 0.2em;position: relative;}#sk-container-id-1 div.sk-item {position: relative;z-index: 1;}#sk-container-id-1 div.sk-parallel {display: flex;align-items: stretch;justify-content: center;background-color: white;position: relative;}#sk-container-id-1 div.sk-item::before, #sk-container-id-1 div.sk-parallel-item::before {content: \"\";position: absolute;border-left: 1px solid gray;box-sizing: border-box;top: 0;bottom: 0;left: 50%;z-index: -1;}#sk-container-id-1 div.sk-parallel-item {display: flex;flex-direction: column;z-index: 1;position: relative;background-color: white;}#sk-container-id-1 div.sk-parallel-item:first-child::after {align-self: flex-end;width: 50%;}#sk-container-id-1 div.sk-parallel-item:last-child::after {align-self: flex-start;width: 50%;}#sk-container-id-1 div.sk-parallel-item:only-child::after {width: 0;}#sk-container-id-1 div.sk-dashed-wrapped {border: 1px dashed gray;margin: 0 0.4em 0.5em 0.4em;box-sizing: border-box;padding-bottom: 0.4em;background-color: white;}#sk-container-id-1 div.sk-label label {font-family: monospace;font-weight: bold;display: inline-block;line-height: 1.2em;}#sk-container-id-1 div.sk-label-container {text-align: center;}#sk-container-id-1 div.sk-container {/* jupyter's `normalize.less` sets `[hidden] { display: none; }` but bootstrap.min.css set `[hidden] { display: none !important; }` so we also need the `!important` here to be able to override the default hidden behavior on the sphinx rendered scikit-learn.org. See: https://github.com/scikit-learn/scikit-learn/issues/21755 */display: inline-block !important;position: relative;}#sk-container-id-1 div.sk-text-repr-fallback {display: none;}</style><div id=\"sk-container-id-1\" class=\"sk-top-container\"><div class=\"sk-text-repr-fallback\"><pre>Pipeline(steps=[(&#x27;impute&#x27;, SimpleImputer())])</pre><b>In a Jupyter environment, please rerun this cell to show the HTML representation or trust the notebook. <br />On GitHub, the HTML representation is unable to render, please try loading this page with nbviewer.org.</b></div><div class=\"sk-container\" hidden><div class=\"sk-item sk-dashed-wrapped\"><div class=\"sk-label-container\"><div class=\"sk-label sk-toggleable\"><input class=\"sk-toggleable__control sk-hidden--visually\" id=\"sk-estimator-id-1\" type=\"checkbox\" ><label for=\"sk-estimator-id-1\" class=\"sk-toggleable__label sk-toggleable__label-arrow\">Pipeline</label><div class=\"sk-toggleable__content\"><pre>Pipeline(steps=[(&#x27;impute&#x27;, SimpleImputer())])</pre></div></div></div><div class=\"sk-serial\"><div class=\"sk-item\"><div class=\"sk-estimator sk-toggleable\"><input class=\"sk-toggleable__control sk-hidden--visually\" id=\"sk-estimator-id-2\" type=\"checkbox\" ><label for=\"sk-estimator-id-2\" class=\"sk-toggleable__label sk-toggleable__label-arrow\">SimpleImputer</label><div class=\"sk-toggleable__content\"><pre>SimpleImputer()</pre></div></div></div></div></div></div></div>"
      ],
      "text/plain": [
       "Pipeline(steps=[('impute', SimpleImputer())])"
      ]
     },
     "execution_count": 16,
     "metadata": {},
     "output_type": "execute_result"
    }
   ],
   "source": [
    "from sklearn.pipeline import Pipeline\n",
    "from sklearn.compose import ColumnTransformer\n",
    "from sklearn.impute import SimpleImputer\n",
    "\n",
    "pipeline = Pipeline(steps=[('impute', SimpleImputer(strategy='mean'))])\n",
    "pipeline"
   ]
  },
  {
   "cell_type": "code",
   "execution_count": 17,
   "id": "a7769665",
   "metadata": {
    "execution": {
     "iopub.execute_input": "2023-01-24T05:01:41.819520Z",
     "iopub.status.busy": "2023-01-24T05:01:41.819085Z",
     "iopub.status.idle": "2023-01-24T05:01:41.824292Z",
     "shell.execute_reply": "2023-01-24T05:01:41.823533Z"
    },
    "papermill": {
     "duration": 0.029852,
     "end_time": "2023-01-24T05:01:41.826583",
     "exception": false,
     "start_time": "2023-01-24T05:01:41.796731",
     "status": "completed"
    },
    "tags": []
   },
   "outputs": [],
   "source": [
    "def prepare_model(algorithm, X_train, y_train): \n",
    "    model = Pipeline(steps=[('preprocessing', pipeline),('algorithm', algorithm)])\n",
    "    model.fit(X_train, y_train)\n",
    "    return model"
   ]
  },
  {
   "cell_type": "code",
   "execution_count": 20,
   "id": "b31fba9d",
   "metadata": {
    "execution": {
     "iopub.execute_input": "2023-01-24T05:01:41.870901Z",
     "iopub.status.busy": "2023-01-24T05:01:41.870161Z",
     "iopub.status.idle": "2023-01-24T05:01:41.988877Z",
     "shell.execute_reply": "2023-01-24T05:01:41.987938Z"
    },
    "papermill": {
     "duration": 0.1436,
     "end_time": "2023-01-24T05:01:41.991434",
     "exception": false,
     "start_time": "2023-01-24T05:01:41.847834",
     "status": "completed"
    },
    "tags": []
   },
   "outputs": [],
   "source": [
    "from sklearn.ensemble import RandomForestRegressor, GradientBoostingRegressor\n",
    "from sklearn.svm import SVR\n",
    "from sklearn.tree import DecisionTreeRegressor, ExtraTreeRegressor\n",
    "from sklearn.linear_model import LinearRegression, SGDRegressor\n",
    "from sklearn.neighbors import KNeighborsRegressor\n",
    "import time\n",
    "from sklearn.metrics import mean_squared_error, mean_absolute_error\n",
    "\n",
    "algorithms = [RandomForestRegressor(), GradientBoostingRegressor(), DecisionTreeRegressor(), ExtraTreeRegressor(), \n",
    "              LinearRegression(), SGDRegressor(), KNeighborsRegressor()]"
   ]
  },
  {
   "cell_type": "code",
   "execution_count": 21,
   "id": "66b7e130",
   "metadata": {
    "execution": {
     "iopub.execute_input": "2023-01-24T05:01:42.035500Z",
     "iopub.status.busy": "2023-01-24T05:01:42.035074Z",
     "iopub.status.idle": "2023-01-24T05:02:03.230097Z",
     "shell.execute_reply": "2023-01-24T05:02:03.229003Z"
    },
    "papermill": {
     "duration": 21.220872,
     "end_time": "2023-01-24T05:02:03.233452",
     "exception": false,
     "start_time": "2023-01-24T05:01:42.012580",
     "status": "completed"
    },
    "tags": []
   },
   "outputs": [
    {
     "name": "stdout",
     "output_type": "stream",
     "text": [
      "Regression Results in Algorithms\n"
     ]
    },
    {
     "data": {
      "text/html": [
       "<div>\n",
       "<style scoped>\n",
       "    .dataframe tbody tr th:only-of-type {\n",
       "        vertical-align: middle;\n",
       "    }\n",
       "\n",
       "    .dataframe tbody tr th {\n",
       "        vertical-align: top;\n",
       "    }\n",
       "\n",
       "    .dataframe thead th {\n",
       "        text-align: right;\n",
       "    }\n",
       "</style>\n",
       "<table border=\"1\" class=\"dataframe\">\n",
       "  <thead>\n",
       "    <tr style=\"text-align: right;\">\n",
       "      <th></th>\n",
       "      <th>Algorithm</th>\n",
       "      <th>MSE</th>\n",
       "      <th>RMSE</th>\n",
       "      <th>Time</th>\n",
       "    </tr>\n",
       "  </thead>\n",
       "  <tbody>\n",
       "    <tr>\n",
       "      <th>0</th>\n",
       "      <td>RandomForestRegressor</td>\n",
       "      <td>497.262420</td>\n",
       "      <td>22.299382</td>\n",
       "      <td>7.662881</td>\n",
       "    </tr>\n",
       "    <tr>\n",
       "      <th>3</th>\n",
       "      <td>ExtraTreeRegressor</td>\n",
       "      <td>807.254647</td>\n",
       "      <td>28.412227</td>\n",
       "      <td>0.070088</td>\n",
       "    </tr>\n",
       "    <tr>\n",
       "      <th>6</th>\n",
       "      <td>KNeighborsRegressor</td>\n",
       "      <td>984.294086</td>\n",
       "      <td>31.373461</td>\n",
       "      <td>0.094122</td>\n",
       "    </tr>\n",
       "    <tr>\n",
       "      <th>2</th>\n",
       "      <td>DecisionTreeRegressor</td>\n",
       "      <td>1363.900017</td>\n",
       "      <td>36.931017</td>\n",
       "      <td>0.140777</td>\n",
       "    </tr>\n",
       "    <tr>\n",
       "      <th>1</th>\n",
       "      <td>GradientBoostingRegressor</td>\n",
       "      <td>1954.262539</td>\n",
       "      <td>44.207042</td>\n",
       "      <td>2.811463</td>\n",
       "    </tr>\n",
       "    <tr>\n",
       "      <th>4</th>\n",
       "      <td>LinearRegression</td>\n",
       "      <td>22060.500669</td>\n",
       "      <td>148.527777</td>\n",
       "      <td>0.195404</td>\n",
       "    </tr>\n",
       "    <tr>\n",
       "      <th>5</th>\n",
       "      <td>SGDRegressor</td>\n",
       "      <td>23005.118822</td>\n",
       "      <td>151.674384</td>\n",
       "      <td>0.094119</td>\n",
       "    </tr>\n",
       "  </tbody>\n",
       "</table>\n",
       "</div>"
      ],
      "text/plain": [
       "                   Algorithm           MSE        RMSE      Time\n",
       "0      RandomForestRegressor    497.262420   22.299382  7.662881\n",
       "3         ExtraTreeRegressor    807.254647   28.412227  0.070088\n",
       "6        KNeighborsRegressor    984.294086   31.373461  0.094122\n",
       "2      DecisionTreeRegressor   1363.900017   36.931017  0.140777\n",
       "1  GradientBoostingRegressor   1954.262539   44.207042  2.811463\n",
       "4           LinearRegression  22060.500669  148.527777  0.195404\n",
       "5               SGDRegressor  23005.118822  151.674384  0.094119"
      ]
     },
     "execution_count": 21,
     "metadata": {},
     "output_type": "execute_result"
    }
   ],
   "source": [
    "names = []\n",
    "times = []\n",
    "mse = []\n",
    "rmse = []\n",
    "\n",
    "for algorithm in algorithms:\n",
    "    name = type(algorithm).__name__\n",
    "    names.append(name)\n",
    "    start_time = time.time()\n",
    "    model = prepare_model(algorithm, X_train, y_train)\n",
    "    pred = model.predict(X_test)\n",
    "    end_time = time.time()\n",
    "    times.append(end_time - start_time)\n",
    "    mse.append(mean_squared_error(y_test, pred))\n",
    "    rmse.append(np.sqrt(mean_squared_error(y_test, pred)))\n",
    "\n",
    "print('Regression Results in Algorithms') \n",
    "results_dict = {'Algorithm': names, 'MSE': mse, 'RMSE': rmse, 'Time': times}\n",
    "pd.DataFrame(results_dict).sort_values(by='RMSE', ascending=1)"
   ]
  },
  {
   "cell_type": "markdown",
   "id": "2ca567ae",
   "metadata": {
    "papermill": {
     "duration": 0.021117,
     "end_time": "2023-01-24T05:02:03.276450",
     "exception": false,
     "start_time": "2023-01-24T05:02:03.255333",
     "status": "completed"
    },
    "tags": []
   },
   "source": [
    "# RandomForestRegressor"
   ]
  },
  {
   "cell_type": "code",
   "execution_count": 29,
   "id": "0b23c44d",
   "metadata": {
    "execution": {
     "iopub.execute_input": "2023-01-24T05:02:03.322311Z",
     "iopub.status.busy": "2023-01-24T05:02:03.321061Z",
     "iopub.status.idle": "2023-01-24T05:02:10.004452Z",
     "shell.execute_reply": "2023-01-24T05:02:10.003016Z"
    },
    "papermill": {
     "duration": 6.708931,
     "end_time": "2023-01-24T05:02:10.006986",
     "exception": false,
     "start_time": "2023-01-24T05:02:03.298055",
     "status": "completed"
    },
    "tags": []
   },
   "outputs": [
    {
     "name": "stdout",
     "output_type": "stream",
     "text": [
      "0.9992551589548171\n",
      "0.9946374885266009\n",
      "rmse (root mean square deviation) 23.26577679989827\n"
     ]
    }
   ],
   "source": [
    "rfr = RandomForestRegressor(random_state=2301, n_estimators=100)\n",
    "\n",
    "rfr.fit(X_train, y_train)\n",
    "print(rfr.score(X_train, y_train))\n",
    "print(rfr.score(X_test, y_test))\n",
    "\n",
    "rfr_pred = rfr.predict(X_test)\n",
    "rfr_rmse = np.sqrt(mean_squared_error(y_test, rfr_pred))\n",
    "print(\"rmse (root mean square deviation)\",rfr_rmse)"
   ]
  },
  {
   "cell_type": "code",
   "execution_count": 30,
   "id": "051866a3",
   "metadata": {
    "execution": {
     "iopub.execute_input": "2023-01-24T05:02:10.051764Z",
     "iopub.status.busy": "2023-01-24T05:02:10.051054Z",
     "iopub.status.idle": "2023-01-24T05:02:10.598923Z",
     "shell.execute_reply": "2023-01-24T05:02:10.597622Z"
    },
    "papermill": {
     "duration": 0.572823,
     "end_time": "2023-01-24T05:02:10.601213",
     "exception": false,
     "start_time": "2023-01-24T05:02:10.028390",
     "status": "completed"
    },
    "tags": []
   },
   "outputs": [
    {
     "data": {
      "text/plain": [
       "<AxesSubplot: ylabel='RUL'>"
      ]
     },
     "execution_count": 30,
     "metadata": {},
     "output_type": "execute_result"
    },
    {
     "data": {
      "image/png": "[encoded data removed]",
      "text/plain": [
       "<Figure size 640x480 with 1 Axes>"
      ]
     },
     "metadata": {},
     "output_type": "display_data"
    }
   ],
   "source": [
    "sns.regplot(x = rfr_pred, y = y_test)"
   ]
  },
  {
   "cell_type": "markdown",
   "id": "65cf2dea",
   "metadata": {
    "papermill": {
     "duration": 0.021771,
     "end_time": "2023-01-24T05:02:10.644956",
     "exception": false,
     "start_time": "2023-01-24T05:02:10.623185",
     "status": "completed"
    },
    "tags": []
   },
   "source": [
    "# feature importance"
   ]
  },
  {
   "cell_type": "code",
   "execution_count": 31,
   "id": "22efecb6",
   "metadata": {
    "execution": {
     "iopub.execute_input": "2023-01-24T05:02:10.690434Z",
     "iopub.status.busy": "2023-01-24T05:02:10.690005Z",
     "iopub.status.idle": "2023-01-24T05:02:10.731038Z",
     "shell.execute_reply": "2023-01-24T05:02:10.729852Z"
    },
    "papermill": {
     "duration": 0.066745,
     "end_time": "2023-01-24T05:02:10.733481",
     "exception": false,
     "start_time": "2023-01-24T05:02:10.666736",
     "status": "completed"
    },
    "tags": []
   },
   "outputs": [
    {
     "data": {
      "text/plain": [
       "array([0.8662972 , 0.08660112, 0.0165921 , 0.00620553, 0.0075073 ,\n",
       "       0.01144001, 0.00535674])"
      ]
     },
     "execution_count": 31,
     "metadata": {},
     "output_type": "execute_result"
    }
   ],
   "source": [
    "rfr.feature_importances_"
   ]
  },
  {
   "cell_type": "code",
   "execution_count": 32,
   "id": "61619aba",
   "metadata": {
    "execution": {
     "iopub.execute_input": "2023-01-24T05:02:10.781429Z",
     "iopub.status.busy": "2023-01-24T05:02:10.780908Z",
     "iopub.status.idle": "2023-01-24T05:02:11.134376Z",
     "shell.execute_reply": "2023-01-24T05:02:11.133305Z"
    },
    "papermill": {
     "duration": 0.380663,
     "end_time": "2023-01-24T05:02:11.136898",
     "exception": false,
     "start_time": "2023-01-24T05:02:10.756235",
     "status": "completed"
    },
    "tags": []
   },
   "outputs": [
    {
     "data": {
      "text/plain": [
       "Text(0.5, 0, 'Random Forest Feature Importance')"
      ]
     },
     "execution_count": 32,
     "metadata": {},
     "output_type": "execute_result"
    },
    {
     "data": {
      "image/png": "[encoded data removed]",
      "text/plain": [
       "<Figure size 640x480 with 1 Axes>"
      ]
     },
     "metadata": {},
     "output_type": "display_data"
    }
   ],
   "source": [
    "sorted_idx = rfr.feature_importances_.argsort()\n",
    "plt.barh(X_train.columns[sorted_idx], rfr.feature_importances_[sorted_idx])\n",
    "plt.xlabel(\"Random Forest Feature Importance\")"
   ]
  },
  {
   "cell_type": "markdown",
   "id": "cd265abf",
   "metadata": {
    "papermill": {
     "duration": 0.022362,
     "end_time": "2023-01-24T05:02:11.937822",
     "exception": false,
     "start_time": "2023-01-24T05:02:11.915460",
     "status": "completed"
    },
    "tags": []
   },
   "source": [
    "# KNeighborsRegressor"
   ]
  },
  {
   "cell_type": "code",
   "execution_count": 33,
   "id": "09234ef1",
   "metadata": {
    "execution": {
     "iopub.execute_input": "2023-01-24T05:02:11.985307Z",
     "iopub.status.busy": "2023-01-24T05:02:11.984867Z",
     "iopub.status.idle": "2023-01-24T05:02:12.130677Z",
     "shell.execute_reply": "2023-01-24T05:02:12.129087Z"
    },
    "papermill": {
     "duration": 0.172611,
     "end_time": "2023-01-24T05:02:12.133370",
     "exception": false,
     "start_time": "2023-01-24T05:02:11.960759",
     "status": "completed"
    },
    "tags": []
   },
   "outputs": [
    {
     "name": "stdout",
     "output_type": "stream",
     "text": [
      "0.9967541387755393\n",
      "0.9908772551981837\n",
      "rmse (root mean square deviation):  30.345633146228298\n"
     ]
    }
   ],
   "source": [
    "knr = KNeighborsRegressor(n_neighbors=2)\n",
    "knr.fit(X_train, y_train)\n",
    "knr.fit(X_train, y_train)\n",
    "print(knr.score(X_train, y_train))\n",
    "print(knr.score(X_test, y_test))\n",
    "\n",
    "knr_pred = knr.predict(X_test)\n",
    "knr_rmse = np.sqrt(mean_squared_error(y_test, knr_pred))\n",
    "print(\"rmse (root mean square deviation): \",knr_rmse)"
   ]
  },
  {
   "cell_type": "markdown",
   "id": "57879173",
   "metadata": {
    "papermill": {
     "duration": 0.02227,
     "end_time": "2023-01-24T05:02:12.178347",
     "exception": false,
     "start_time": "2023-01-24T05:02:12.156077",
     "status": "completed"
    },
    "tags": []
   },
   "source": [
    "# xtraTreeRegressor"
   ]
  },
  {
   "cell_type": "code",
   "execution_count": 34,
   "id": "7f0b641a",
   "metadata": {
    "execution": {
     "iopub.execute_input": "2023-01-24T05:02:12.225602Z",
     "iopub.status.busy": "2023-01-24T05:02:12.225163Z",
     "iopub.status.idle": "2023-01-24T05:02:12.297293Z",
     "shell.execute_reply": "2023-01-24T05:02:12.295698Z"
    },
    "papermill": {
     "duration": 0.098457,
     "end_time": "2023-01-24T05:02:12.299635",
     "exception": false,
     "start_time": "2023-01-24T05:02:12.201178",
     "status": "completed"
    },
    "tags": []
   },
   "outputs": [
    {
     "name": "stdout",
     "output_type": "stream",
     "text": [
      "0.9999999068777385\n",
      "0.9905945507177002\n",
      "rmse (root mean square deviation):  30.812235824993532\n"
     ]
    }
   ],
   "source": [
    "etr = ExtraTreeRegressor(random_state=2301)\n",
    "\n",
    "etr.fit(X_train, y_train)\n",
    "etr.fit(X_train, y_train)\n",
    "print(etr.score(X_train, y_train))\n",
    "print(etr.score(X_test, y_test))\n",
    "\n",
    "etr_pred = etr.predict(X_test)\n",
    "etr_rmse = np.sqrt(mean_squared_error(y_test, etr_pred))\n",
    "print(\"rmse (root mean square deviation): \",etr_rmse)"
   ]
  },
  {
   "cell_type": "markdown",
   "id": "56187502",
   "metadata": {
    "papermill": {
     "duration": 0.022647,
     "end_time": "2023-01-24T05:02:12.345262",
     "exception": false,
     "start_time": "2023-01-24T05:02:12.322615",
     "status": "completed"
    },
    "tags": []
   },
   "source": [
    "# DecisionTreeRegressor"
   ]
  },
  {
   "cell_type": "code",
   "execution_count": 35,
   "id": "871164d1",
   "metadata": {
    "execution": {
     "iopub.execute_input": "2023-01-24T05:02:12.393770Z",
     "iopub.status.busy": "2023-01-24T05:02:12.393035Z",
     "iopub.status.idle": "2023-01-24T05:02:12.604308Z",
     "shell.execute_reply": "2023-01-24T05:02:12.603088Z"
    },
    "papermill": {
     "duration": 0.238359,
     "end_time": "2023-01-24T05:02:12.607029",
     "exception": false,
     "start_time": "2023-01-24T05:02:12.368670",
     "status": "completed"
    },
    "tags": []
   },
   "outputs": [
    {
     "name": "stdout",
     "output_type": "stream",
     "text": [
      "0.9999999068777385\n",
      "0.9885531782770145\n",
      "rmse (root mean square deviation):  33.99193594457182\n"
     ]
    }
   ],
   "source": [
    "dtr = DecisionTreeRegressor(random_state=2301)\n",
    "dtr.fit(X_train, y_train)\n",
    "dtr.fit(X_train, y_train)\n",
    "print(dtr.score(X_train, y_train))\n",
    "print(dtr.score(X_test, y_test))\n",
    "\n",
    "dtr_pred = dtr.predict(X_test)\n",
    "dtr_rmse = np.sqrt(mean_squared_error(y_test, dtr_pred))\n",
    "print(\"rmse (root mean square deviation): \",dtr_rmse)"
   ]
  },
  {
   "cell_type": "markdown",
   "id": "117ee997",
   "metadata": {
    "papermill": {
     "duration": 0.02314,
     "end_time": "2023-01-24T05:02:12.653637",
     "exception": false,
     "start_time": "2023-01-24T05:02:12.630497",
     "status": "completed"
    },
    "tags": []
   },
   "source": [
    "# Sum of models"
   ]
  },
  {
   "cell_type": "code",
   "execution_count": 37,
   "id": "4df88136",
   "metadata": {
    "execution": {
     "iopub.execute_input": "2023-01-24T05:02:12.702214Z",
     "iopub.status.busy": "2023-01-24T05:02:12.701806Z",
     "iopub.status.idle": "2023-01-24T05:02:12.711544Z",
     "shell.execute_reply": "2023-01-24T05:02:12.710320Z"
    },
    "papermill": {
     "duration": 0.0367,
     "end_time": "2023-01-24T05:02:12.713969",
     "exception": false,
     "start_time": "2023-01-24T05:02:12.677269",
     "status": "completed"
    },
    "tags": []
   },
   "outputs": [
    {
     "data": {
      "text/plain": [
       "130.467794269329"
      ]
     },
     "execution_count": 37,
     "metadata": {},
     "output_type": "execute_result"
    }
   ],
   "source": [
    "preds = 0.2*rfr_pred + 0.2*knr_pred + 0.2*etr_pred + 0.2*dtr_pred\n",
    "rmse = np.sqrt(mean_squared_error(y_test, preds))\n",
    "rmse"
   ]
  },
  {
   "cell_type": "code",
   "execution_count": 38,
   "id": "8357c8b2",
   "metadata": {
    "execution": {
     "iopub.execute_input": "2023-01-24T05:02:12.762375Z",
     "iopub.status.busy": "2023-01-24T05:02:12.761905Z",
     "iopub.status.idle": "2023-01-24T05:02:13.308408Z",
     "shell.execute_reply": "2023-01-24T05:02:13.307319Z"
    },
    "papermill": {
     "duration": 0.573651,
     "end_time": "2023-01-24T05:02:13.310836",
     "exception": false,
     "start_time": "2023-01-24T05:02:12.737185",
     "status": "completed"
    },
    "tags": []
   },
   "outputs": [
    {
     "data": {
      "text/plain": [
       "<AxesSubplot: ylabel='RUL'>"
      ]
     },
     "execution_count": 38,
     "metadata": {},
     "output_type": "execute_result"
    },
    {
     "data": {
      "image/png": "[encoded data removed]",
      "text/plain": [
       "<Figure size 640x480 with 1 Axes>"
      ]
     },
     "metadata": {},
     "output_type": "display_data"
    }
   ],
   "source": [
    "preds\n",
    "sns.regplot(x = preds, y = y_test)"
   ]
  },
  {
   "cell_type": "markdown",
   "id": "2086ed14",
   "metadata": {
    "papermill": {
     "duration": 0.024461,
     "end_time": "2023-01-24T05:02:13.359696",
     "exception": false,
     "start_time": "2023-01-24T05:02:13.335235",
     "status": "completed"
    },
    "tags": []
   },
   "source": [
    "# Stacking"
   ]
  },
  {
   "cell_type": "code",
   "execution_count": 39,
   "id": "5edb3df0",
   "metadata": {
    "execution": {
     "iopub.execute_input": "2023-01-24T05:02:13.411157Z",
     "iopub.status.busy": "2023-01-24T05:02:13.410236Z",
     "iopub.status.idle": "2023-01-24T05:02:13.415680Z",
     "shell.execute_reply": "2023-01-24T05:02:13.414585Z"
    },
    "papermill": {
     "duration": 0.034408,
     "end_time": "2023-01-24T05:02:13.418522",
     "exception": false,
     "start_time": "2023-01-24T05:02:13.384114",
     "status": "completed"
    },
    "tags": []
   },
   "outputs": [],
   "source": [
    "from sklearn.model_selection import KFold\n",
    "from sklearn.metrics import mean_absolute_error"
   ]
  },
  {
   "cell_type": "markdown",
   "id": "def9d564",
   "metadata": {
    "papermill": {
     "duration": 0.023913,
     "end_time": "2023-01-24T05:02:13.466852",
     "exception": false,
     "start_time": "2023-01-24T05:02:13.442939",
     "status": "completed"
    },
    "tags": []
   },
   "source": [
    "def get_stacking_base_datasets(model, X_train_f_n, y_train_f_n, X_test_n, n_folds):\n",
    "    \n",
    "    kf = KFold(n_splits = n_folds, shuffle = True, random_state=2301)\n",
    "    \n",
    "    train_fold_pred = np.zeros((X_train_f_n.shape[0], 1))\n",
    "    test_pred = np.zeros((X_test_n.shape[0],n_folds))\n",
    "    print(model.__class__.__name__, 'model start')\n",
    "    \n",
    "    for folder_counter, (train_index, valid_index) in enumerate(kf.split(X_train_f_n)):\n",
    "        \n",
    "        print('\\t fold set: ', folder_counter, 'start')\n",
    "        X_tr = X_train_f_n[train_index]\n",
    "        y_tr = y_train_f_n[train_index]\n",
    "        X_te = X_train_f_n[valid_index]\n",
    "        \n",
    "        model.fit(X_tr, y_tr)\n",
    "        \n",
    "        train_fold_pred[valid_index, :] = model.predict(X_te).reshape(-1,1)\n",
    "        \n",
    "        test_pred[:, folder_counter] = model.predict(X_test_n)\n",
    "    \n",
    "    test_pred_mean = np.mean(test_pred, axis = 1).reshape(-1,1)\n",
    "    \n",
    "    return train_fold_pred, test_pred_mean"
   ]
  },
  {
   "cell_type": "code",
   "execution_count": 42,
   "id": "2effd48d",
   "metadata": {
    "execution": {
     "iopub.execute_input": "2023-01-24T05:02:13.517351Z",
     "iopub.status.busy": "2023-01-24T05:02:13.516910Z",
     "iopub.status.idle": "2023-01-24T05:02:13.526844Z",
     "shell.execute_reply": "2023-01-24T05:02:13.525556Z"
    },
    "papermill": {
     "duration": 0.038322,
     "end_time": "2023-01-24T05:02:13.529407",
     "exception": false,
     "start_time": "2023-01-24T05:02:13.491085",
     "status": "completed"
    },
    "tags": []
   },
   "outputs": [],
   "source": [
    "def get_stacking_base_datasets(model, X_train_n, y_train_n, X_test_n, n_folds):\n",
    "    \n",
    "    kf = KFold(n_splits = n_folds, shuffle = True, random_state=2301)\n",
    "    \n",
    "    train_fold_pred = np.zeros((X_train_n.shape[0], 1))\n",
    "    test_pred = np.zeros((X_test_n.shape[0],n_folds))\n",
    "    print(model.__class__.__name__, 'model start')\n",
    "    \n",
    "    for folder_counter, (train_index, valid_index) in enumerate(kf.split(X_train_n)):\n",
    "        \n",
    "        print('\\t fold set: ', folder_counter, 'start')\n",
    "        X_tr = X_train_n[train_index]\n",
    "        y_tr = y_train_n[train_index]\n",
    "        X_te = X_train_n[valid_index]\n",
    "        \n",
    "        model.fit(X_tr, y_tr)\n",
    "        \n",
    "        train_fold_pred[valid_index, :] = model.predict(X_te).reshape(-1,1)\n",
    "        \n",
    "        test_pred[:, folder_counter] = model.predict(X_test_n)\n",
    "    \n",
    "    test_pred_mean = np.mean(test_pred, axis = 1).reshape(-1,1)\n",
    "    \n",
    "    return train_fold_pred, test_pred_mean"
   ]
  },
  {
   "cell_type": "code",
   "execution_count": 43,
   "id": "7cc7dde2",
   "metadata": {
    "execution": {
     "iopub.execute_input": "2023-01-24T05:02:13.578890Z",
     "iopub.status.busy": "2023-01-24T05:02:13.578079Z",
     "iopub.status.idle": "2023-01-24T05:03:16.480896Z",
     "shell.execute_reply": "2023-01-24T05:03:16.479392Z"
    },
    "papermill": {
     "duration": 62.931032,
     "end_time": "2023-01-24T05:03:16.484183",
     "exception": false,
     "start_time": "2023-01-24T05:02:13.553151",
     "status": "completed"
    },
    "tags": []
   },
   "outputs": [
    {
     "name": "stdout",
     "output_type": "stream",
     "text": [
      "RandomForestRegressor model start\n",
      "\t fold set:  0 start\n",
      "\t fold set:  1 start\n",
      "\t fold set:  2 start\n",
      "\t fold set:  3 start\n",
      "\t fold set:  4 start\n",
      "\t fold set:  5 start\n",
      "\t fold set:  6 start\n",
      "\t fold set:  7 start\n",
      "\t fold set:  8 start\n",
      "\t fold set:  9 start\n",
      "KNeighborsRegressor model start\n",
      "\t fold set:  0 start\n",
      "\t fold set:  1 start\n",
      "\t fold set:  2 start\n",
      "\t fold set:  3 start\n",
      "\t fold set:  4 start\n",
      "\t fold set:  5 start\n",
      "\t fold set:  6 start\n",
      "\t fold set:  7 start\n",
      "\t fold set:  8 start\n",
      "\t fold set:  9 start\n",
      "ExtraTreeRegressor model start\n",
      "\t fold set:  0 start\n",
      "\t fold set:  1 start\n",
      "\t fold set:  2 start\n",
      "\t fold set:  3 start\n",
      "\t fold set:  4 start\n",
      "\t fold set:  5 start\n",
      "\t fold set:  6 start\n",
      "\t fold set:  7 start\n",
      "\t fold set:  8 start\n",
      "\t fold set:  9 start\n",
      "DecisionTreeRegressor model start\n",
      "\t fold set:  0 start\n",
      "\t fold set:  1 start\n",
      "\t fold set:  2 start\n",
      "\t fold set:  3 start\n",
      "\t fold set:  4 start\n",
      "\t fold set:  5 start\n",
      "\t fold set:  6 start\n",
      "\t fold set:  7 start\n",
      "\t fold set:  8 start\n",
      "\t fold set:  9 start\n"
     ]
    }
   ],
   "source": [
    "X_train_n = X_train.values\n",
    "X_test_n = X_test.values\n",
    "y_train_n = y_train.values\n",
    "\n",
    "rfr_train, rfr_test = get_stacking_base_datasets(rfr, X_train_n, y_train_n, X_test_n, 10)\n",
    "knr_train, knr_test = get_stacking_base_datasets(knr, X_train_n, y_train_n, X_test_n, 10)  \n",
    "etr_train, etr_test = get_stacking_base_datasets(etr, X_train_n, y_train_n, X_test_n, 10)\n",
    "dtr_train, dtr_test = get_stacking_base_datasets(dtr, X_train_n, y_train_n, X_test_n, 10) "
   ]
  },
  {
   "cell_type": "markdown",
   "id": "4022563e",
   "metadata": {
    "papermill": {
     "duration": 0.027285,
     "end_time": "2023-01-24T05:03:16.539823",
     "exception": false,
     "start_time": "2023-01-24T05:03:16.512538",
     "status": "completed"
    },
    "tags": []
   },
   "source": [
    "0.5*rfr_pred + 0.06*knr_pred + 0.03*etr_pred + 0.01*dtr_pred"
   ]
  },
  {
   "cell_type": "code",
   "execution_count": 45,
   "id": "22841d7b",
   "metadata": {
    "execution": {
     "iopub.execute_input": "2023-01-24T05:03:16.599117Z",
     "iopub.status.busy": "2023-01-24T05:03:16.598638Z",
     "iopub.status.idle": "2023-01-24T05:03:16.706169Z",
     "shell.execute_reply": "2023-01-24T05:03:16.704694Z"
    },
    "papermill": {
     "duration": 0.142212,
     "end_time": "2023-01-24T05:03:16.710592",
     "exception": false,
     "start_time": "2023-01-24T05:03:16.568380",
     "status": "completed"
    },
    "tags": []
   },
   "outputs": [
    {
     "name": "stdout",
     "output_type": "stream",
     "text": [
      "RMSE of the final stacking model: 20.9217188406088\n"
     ]
    }
   ],
   "source": [
    "# stacking\n",
    "Stack_final_X_train = np.concatenate((rfr_train, knr_train, etr_train, dtr_train), axis=1)\n",
    "Stack_final_X_test = np.concatenate((rfr_test, knr_test, etr_test, dtr_test), axis=1)\n",
    "\n",
    "# final meta model\n",
    "from sklearn.linear_model import Lasso\n",
    "meta_model_lasso = Lasso(alpha=0.0005, random_state=2301)\n",
    "\n",
    "# final stacking model\n",
    "meta_model_lasso.fit(Stack_final_X_train, y_train)\n",
    "final = meta_model_lasso.predict(Stack_final_X_test)\n",
    "rmse = np.sqrt(mean_squared_error(y_test, final))\n",
    "\n",
    "print('RMSE of the final stacking model:', rmse)\n"
   ]
  },
  {
   "cell_type": "code",
   "execution_count": 46,
   "id": "df34949d",
   "metadata": {
    "execution": {
     "iopub.execute_input": "2023-01-24T05:03:16.854439Z",
     "iopub.status.busy": "2023-01-24T05:03:16.853716Z",
     "iopub.status.idle": "2023-01-24T05:03:17.490675Z",
     "shell.execute_reply": "2023-01-24T05:03:17.489331Z"
    },
    "papermill": {
     "duration": 0.668937,
     "end_time": "2023-01-24T05:03:17.493353",
     "exception": false,
     "start_time": "2023-01-24T05:03:16.824416",
     "status": "completed"
    },
    "tags": []
   },
   "outputs": [
    {
     "data": {
      "text/plain": [
       "<AxesSubplot: ylabel='RUL'>"
      ]
     },
     "execution_count": 46,
     "metadata": {},
     "output_type": "execute_result"
    },
    {
     "data": {
      "image/png": "[encoded data removed]",
      "text/plain": [
       "<Figure size 640x480 with 1 Axes>"
      ]
     },
     "metadata": {},
     "output_type": "display_data"
    }
   ],
   "source": [
    "preds\n",
    "sns.regplot(x = final, y = y_test)"
   ]
  }
 ],
 "metadata": {
  "kernelspec": {
   "display_name": "Python 3 (ipykernel)",
   "language": "python",
   "name": "python3"
  },
  "language_info": {
   "codemirror_mode": {
    "name": "ipython",
    "version": 3
   },
   "file_extension": ".py",
   "mimetype": "text/x-python",
   "name": "python",
   "nbconvert_exporter": "python",
   "pygments_lexer": "ipython3",
   "version": "3.10.7"
  },
  "papermill": {
   "default_parameters": {},
   "duration": 217.500853,
   "end_time": "2023-01-24T05:03:36.424165",
   "environment_variables": {},
   "exception": null,
   "input_path": "__notebook__.ipynb",
   "output_path": "__notebook__.ipynb",
   "parameters": {},
   "start_time": "2023-01-24T04:59:58.923312",
   "version": "2.3.4"
  }
 },
 "nbformat": 4,
 "nbformat_minor": 5
}
